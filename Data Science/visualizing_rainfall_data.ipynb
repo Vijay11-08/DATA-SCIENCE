{
  "nbformat": 4,
  "nbformat_minor": 0,
  "metadata": {
    "kernelspec": {
      "display_name": "Python 3",
      "language": "python",
      "name": "python3"
    },
    "language_info": {
      "codemirror_mode": {
        "name": "ipython",
        "version": 3
      },
      "file_extension": ".py",
      "mimetype": "text/x-python",
      "name": "python",
      "nbconvert_exporter": "python",
      "pygments_lexer": "ipython3",
      "version": "3.6.6"
    },
    "colab": {
      "provenance": []
    }
  },
  "cells": [
    {
      "cell_type": "code",
      "metadata": {
        "id": "1n6YBe6FyIUo"
      },
      "source": [
        "from google.colab import drive\n",
        "drive.mount('/content/drive')"
      ],
      "execution_count": null,
      "outputs": []
    },
    {
      "cell_type": "code",
      "metadata": {
        "id": "tmUG-eIhw-SV"
      },
      "source": [
        "import pandas as pd\n",
        "import numpy as np\n",
        "import seaborn as sns\n",
        "import matplotlib.pyplot as plt\n",
        "%matplotlib inline\n",
        "plt.style.use('ggplot')"
      ],
      "execution_count": null,
      "outputs": []
    },
    {
      "cell_type": "code",
      "metadata": {
        "id": "RNnhrkMAw-SZ"
      },
      "source": [
        "df = pd.read_csv(\"/content/drive/MyDrive/DataVisualization/rainfall in india 1901-2015.csv\")\n",
        "df = pd.DataFrame(df)\n",
        "df.head()"
      ],
      "execution_count": null,
      "outputs": []
    },
    {
      "cell_type": "code",
      "metadata": {
        "id": "SiE1nQb_w-Sb"
      },
      "source": [
        "df = df.rename(columns = {'SUBDIVISION':'state', 'JAN': 'jan', 'FEB': 'feb', 'MAR': 'mar',\n",
        "                       'APR': 'apr' , 'MAY': 'may', 'JUN': 'jun', 'JUL': 'jul', 'AUG': 'aug', 'SEP': 'sep', 'OCT': 'oct'\n",
        "                      , 'NOV': 'nov', 'DEC': 'dec', 'ANNUAL': 'annual', 'YEAR': 'year'})\n",
        "df.tail()"
      ],
      "execution_count": null,
      "outputs": []
    },
    {
      "cell_type": "markdown",
      "metadata": {
        "id": "stzRzEC3w-Sc"
      },
      "source": [
        "***I have changed the label of the rows as per my ease of operation***"
      ]
    },
    {
      "cell_type": "code",
      "metadata": {
        "id": "l-Ee9u-Mw-Sd"
      },
      "source": [
        "df.state.unique()"
      ],
      "execution_count": null,
      "outputs": []
    },
    {
      "cell_type": "code",
      "metadata": {
        "id": "7XwDt0kremOr"
      },
      "source": [
        "len(df.state.unique())"
      ],
      "execution_count": null,
      "outputs": []
    },
    {
      "cell_type": "markdown",
      "metadata": {
        "id": "eGb4arxLw-Se"
      },
      "source": [
        "***Unique values of the state are mentioned above***"
      ]
    },
    {
      "cell_type": "code",
      "metadata": {
        "id": "J3OuhK5Bw-Se"
      },
      "source": [
        "df.year.unique()"
      ],
      "execution_count": null,
      "outputs": []
    },
    {
      "cell_type": "code",
      "metadata": {
        "id": "tlpQfAj4e4d4"
      },
      "source": [
        "len(df.year.unique())"
      ],
      "execution_count": null,
      "outputs": []
    },
    {
      "cell_type": "code",
      "metadata": {
        "id": "uTyG1fgkw-Sf"
      },
      "source": [
        "df_kon = df[df.state=='KONKAN & GOA']\n",
        "df_kel = df[df.state=='KERALA']\n",
        "#df_kel.head()\n",
        "#df_kon.head()\n",
        "#len(df_kon)\n",
        "len(df_kel)"
      ],
      "execution_count": null,
      "outputs": []
    },
    {
      "cell_type": "markdown",
      "metadata": {
        "id": "VK8s_P0-w-Sg"
      },
      "source": [
        "> ***I have created two specific data set one from KONKAN, and other for Kerla to process the data in further codes***"
      ]
    },
    {
      "cell_type": "code",
      "metadata": {
        "id": "WYsAkliMw-Sh"
      },
      "source": [
        "plt.figure(figsize = (20,5))\n",
        "sns.barplot(x='year', y= 'annual', data = df_kon)\n",
        "plt.xticks(rotation = 90)\n",
        "plt.title('KONKAN & GOA RAINFALL DATA FROM 1901-2015')\n",
        "plt.show()"
      ],
      "execution_count": null,
      "outputs": []
    },
    {
      "cell_type": "code",
      "metadata": {
        "id": "skxRLXhOw-Si"
      },
      "source": [
        "plt.figure(figsize = (20,5))\n",
        "sns.barplot(x='year', y= 'annual', data = df_kel)\n",
        "plt.xticks(rotation = 90)\n",
        "plt.title('KERALA RAINFALL DATA FROM 1901-2015')\n",
        "plt.show()"
      ],
      "execution_count": null,
      "outputs": []
    },
    {
      "cell_type": "code",
      "metadata": {
        "id": "rjnbvxx9w-Si"
      },
      "source": [
        "plt.figure(figsize=(25,15))\n",
        "sns.lineplot(x = 'year', y= 'annual', hue = 'state', data = df)"
      ],
      "execution_count": null,
      "outputs": []
    },
    {
      "cell_type": "code",
      "metadata": {
        "id": "H4k00FVuw-Sj"
      },
      "source": [
        "df_kon.groupby(['year'])['Jan-Feb', 'Mar-May', 'Jun-Sep', 'Oct-Dec'].sum().plot.line(figsize=(15,5))\n",
        "plt.title('KONKAN & GOA')\n",
        "df_kel.groupby(['year'])['Jan-Feb', 'Mar-May', 'Jun-Sep', 'Oct-Dec'].sum().plot.line(figsize=(15,5))\n",
        "plt.title('KERALA')\n",
        "plt.show()"
      ],
      "execution_count": null,
      "outputs": []
    },
    {
      "cell_type": "markdown",
      "metadata": {
        "id": "rTYtq2qbw-Sj"
      },
      "source": [
        "***Above charts shows the rainfall data for two states ***"
      ]
    },
    {
      "cell_type": "code",
      "metadata": {
        "id": "aKYIIRDew-Sj"
      },
      "source": [
        "plt.figure(figsize=(15,5))\n",
        "df.groupby(['state','year'])['annual'].sum().sort_values(ascending=False).plot()\n",
        "plt.xticks(rotation=90)"
      ],
      "execution_count": null,
      "outputs": []
    },
    {
      "cell_type": "markdown",
      "metadata": {
        "id": "6M30SEDSw-Sk"
      },
      "source": [
        "***I have used groupby function and sorted the values in ascending order to create rainfall data***"
      ]
    },
    {
      "cell_type": "markdown",
      "metadata": {
        "id": "IHWk67iJw-Sk"
      },
      "source": [
        "***From the below code result and the chart above you can see that Arunachal Pradesh had highest rainfall in 1948, Coastal Karnataka had higest rainfall in 1961***"
      ]
    },
    {
      "cell_type": "code",
      "metadata": {
        "id": "mKE9cC3Zw-Sk"
      },
      "source": [
        "df.groupby(['state','year'])['annual'].sum().sort_values(ascending=False)"
      ],
      "execution_count": null,
      "outputs": []
    },
    {
      "cell_type": "code",
      "metadata": {
        "id": "uE0q8LD2w-Sl"
      },
      "source": [
        "plt.figure(figsize=(15,5))\n",
        "df.groupby(['year'])['annual'].sum().sort_values(ascending=False).head(12).plot(kind='bar', color = 'b')\n",
        "plt.ylabel('Yearly Rainfall')\n",
        "plt.title('Yearly Rainfall Data')"
      ],
      "execution_count": null,
      "outputs": []
    },
    {
      "cell_type": "markdown",
      "metadata": {
        "id": "FWL9VcXJw-Sl"
      },
      "source": [
        "**Above chart shows you that in last 115 years 1961 was the year which had highest rainfall**"
      ]
    },
    {
      "cell_type": "code",
      "metadata": {
        "id": "Y7xerdPOw-Sm"
      },
      "source": [
        "plt.figure(figsize=(15,5))\n",
        "df.groupby(['year'])['annual'].sum().sort_values(ascending=True).tail(12).plot(kind='bar', color = 'c')\n",
        "plt.ylabel('Yearly Rainfall')\n",
        "plt.title('Yearly Rainfall Data')"
      ],
      "execution_count": null,
      "outputs": []
    },
    {
      "cell_type": "markdown",
      "metadata": {
        "id": "0hsMwjRjw-Sm"
      },
      "source": [
        "***Above chart show that the year 1970 had lowest rainfall in last 115 years***"
      ]
    },
    {
      "cell_type": "code",
      "metadata": {
        "id": "UaPMehSJw-Sm"
      },
      "source": [
        "plt.figure(figsize=(15,5))\n",
        "df.groupby(['state'])['annual'].sum().sort_values(ascending=False).head(12).plot(kind='bar', color = 'g')\n",
        "plt.ylabel('Total Rainfall')\n",
        "plt.title('Total Rainfall Data')"
      ],
      "execution_count": null,
      "outputs": []
    },
    {
      "cell_type": "markdown",
      "metadata": {
        "id": "p6Gd1CY6w-Sn"
      },
      "source": [
        "***Above chart shows that Costal Karnataka has received highest rainfall in last 115 years***"
      ]
    },
    {
      "cell_type": "code",
      "metadata": {
        "id": "sMf743DZw-Sn"
      },
      "source": [
        "plt.figure(figsize=(15,5))\n",
        "df.groupby(['state'])['annual'].sum().sort_values(ascending=True).tail(10).plot(kind='bar', color = 'b')\n",
        "\n",
        "plt.ylabel('Total Rainfall')\n",
        "plt.title('Total Rainfall Data')"
      ],
      "execution_count": null,
      "outputs": []
    },
    {
      "cell_type": "markdown",
      "metadata": {
        "id": "6u5xZy9dw-Sn"
      },
      "source": [
        "***Above chart shows that UTTARAKHAND has received lowest rainfall in last 115 years (This is beacuse UTTARAKHAND has been carved from UP in the year 2000, hence insufficient data )***"
      ]
    },
    {
      "cell_type": "code",
      "metadata": {
        "id": "1lty4vsbw-Sn"
      },
      "source": [
        "plt.figure(figsize=(10,5))\n",
        "df[['jan', 'feb', 'mar', 'apr', 'may', 'jun', 'jul', 'aug',\n",
        "       'sep', 'oct', 'nov', 'dec']].mean().plot(kind= 'bar')\n",
        "plt.xlabel('Months')\n",
        "plt.ylabel('Avg. Rainfall')\n",
        "plt.title('Avg. Monthly Rainfall Data')\n",
        "plt.show()"
      ],
      "execution_count": null,
      "outputs": []
    },
    {
      "cell_type": "markdown",
      "metadata": {
        "id": "6IYjskEvw-Sn"
      },
      "source": [
        "***Above bar graph shows the average rainfall received from Jan-Dec in last 115 years.***"
      ]
    }
  ]
}